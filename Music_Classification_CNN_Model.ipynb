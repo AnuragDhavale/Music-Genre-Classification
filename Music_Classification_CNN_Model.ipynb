{
  "cells": [
    {
      "cell_type": "markdown",
      "metadata": {
        "id": "view-in-github",
        "colab_type": "text"
      },
      "source": [
        "<a href=\"https://colab.research.google.com/github/amolkerkar/Music-Genre-Classification/blob/main/Music_Classification_CNN_Model.ipynb\" target=\"_parent\"><img src=\"https://colab.research.google.com/assets/colab-badge.svg\" alt=\"Open In Colab\"/></a>"
      ]
    },
    {
      "cell_type": "code",
      "execution_count": null,
      "metadata": {
        "id": "fewU1siuIAO4"
      },
      "outputs": [],
      "source": [
        "import os\n",
        "import h5py\n",
        "import librosa\n",
        "import itertools\n",
        "from copy import copy\n",
        "import numpy as np\n",
        "import pandas as pd\n",
        "import matplotlib.pyplot as plt\n",
        "from collections import OrderedDict\n",
        "from sklearn.model_selection import train_test_split\n",
        "from sklearn.metrics import confusion_matrix\n",
        "from tqdm import tqdm\n",
        "import soundfile as sf\n",
        "import tensorflow as tf\n",
        "from tensorflow.keras.utils import to_categorical\n",
        "from tensorflow.keras.models import Model,load_model\n",
        "from tensorflow.keras.layers import Input\n",
        "from tensorflow.keras.models import Sequential\n",
        "from tensorflow.keras.layers import Add\n",
        "from tensorflow.keras.layers import Dense\n",
        "from tensorflow.keras.layers import Activation\n",
        "from tensorflow.keras.layers import PReLU\n",
        "from tensorflow.keras.layers import Conv2D\n",
        "from tensorflow.keras.layers import MaxPooling2D\n",
        "from tensorflow.keras.layers import AveragePooling2D\n",
        "from tensorflow.keras.layers import GlobalAveragePooling2D\n",
        "from tensorflow.keras.layers import GlobalMaxPooling2D\n",
        "from tensorflow.keras.layers import Dropout\n",
        "from tensorflow.keras.layers import Flatten\n",
        "from tensorflow.keras.layers import BatchNormalization\n",
        "from tensorflow.keras.callbacks import ReduceLROnPlateau\n",
        "# from keras.applications.resnet50 import preprocess_input, ResNet50\n",
        "from sklearn.model_selection import train_test_split"
      ]
    },
    {
      "cell_type": "code",
      "execution_count": null,
      "metadata": {
        "colab": {
          "base_uri": "https://localhost:8080/"
        },
        "id": "OQ2apxG4IquB",
        "outputId": "6355f545-3f41-412d-ab12-a4bc0cde5d77"
      },
      "outputs": [
        {
          "name": "stdout",
          "output_type": "stream",
          "text": [
            "Mounted at /content/drive/\n"
          ]
        }
      ],
      "source": [
        "from google.colab import drive\n",
        "drive.mount('/content/drive/')"
      ]
    },
    {
      "cell_type": "code",
      "execution_count": null,
      "metadata": {
        "colab": {
          "base_uri": "https://localhost:8080/"
        },
        "id": "Kbgw3SdQJk1i",
        "outputId": "1132856f-f90b-4be5-d7f7-81964fbbf5f6"
      },
      "outputs": [
        {
          "name": "stdout",
          "output_type": "stream",
          "text": [
            "/content/drive/MyDrive\n"
          ]
        }
      ],
      "source": [
        "# prompt: change present working directory to Mydrive\n",
        "\n",
        "%cd /content/drive/MyDrive/\n"
      ]
    },
    {
      "cell_type": "code",
      "execution_count": null,
      "metadata": {
        "colab": {
          "base_uri": "https://localhost:8080/"
        },
        "id": "AEQ4oZVVKUF6",
        "outputId": "55f1dc23-e6b1-422b-dc80-50f9cf1adefd"
      },
      "outputs": [
        {
          "data": {
            "text/plain": [
              "['me',\n",
              " 'Document from amol.pdf',\n",
              " 'AadharCard.pdf',\n",
              " 'PanCard.pdf',\n",
              " 'AMOL_RESUME_ltts.pdf',\n",
              " 'L & T Trainee Application Form-converted .pdf',\n",
              " 'cert-1089-21337750.pdf',\n",
              " 'AmolKerkar-NDG Linux Unhatc-certificate.pdf',\n",
              " 'Untitled document (1).pdf',\n",
              " 'insta.mp4',\n",
              " 'grp pic 1.gdoc',\n",
              " 'ggrp pic 2.gdoc',\n",
              " 'IMG-20210616-WA0106.jpg',\n",
              " 'genesis communication paara.gdoc',\n",
              " 'Untitled document (5).gdoc',\n",
              " 'ltts',\n",
              " 'kalyan villa',\n",
              " 'kalyan me pics',\n",
              " \"Raj's mehendi\",\n",
              " 'valorant',\n",
              " 'SVM Quiz.gdoc',\n",
              " 'old videos',\n",
              " 'Guide 5 - Word Problems.pdf',\n",
              " 'Guide 7 - Reading Comprehension and Essays.pdf',\n",
              " 'Guide 4 - Number Properties.pdf',\n",
              " 'Guide 1 - Algebra.pdf',\n",
              " 'Guide 3 - Geometry.pdf',\n",
              " 'Guide 2 - Fractions Decimals Percents.pdf',\n",
              " 'Guide 6 - Data.pdf',\n",
              " '5 lb. Book of GRE Practice Problems - Manhattan Prep.pdf',\n",
              " 'GRE padh vai',\n",
              " 'Sop.gdoc',\n",
              " 'CV contents.gdoc',\n",
              " 'Untitled document (4).gdoc',\n",
              " 'Ashas lor.gdoc',\n",
              " 'HODs LOR.gdoc',\n",
              " 'Asha lor v2.gdoc',\n",
              " 'list of unis.gdoc',\n",
              " 'Sop ideas.gdoc',\n",
              " 'TechExpression.gdoc',\n",
              " 'Sop v2.gdoc',\n",
              " 'Tp.gdoc',\n",
              " 'Untitled document (3).gdoc',\n",
              " 'Lor of hod.gdoc',\n",
              " 'Copy of Lor of hod.docx',\n",
              " 'Resume.gdoc',\n",
              " 'Untitled document (2).gdoc',\n",
              " 'Untitled document (1).gdoc',\n",
              " 'Certifications',\n",
              " 'AmolKerkar_SOP.gdoc',\n",
              " 'MS Docs',\n",
              " 'SOP_NEU.gdoc',\n",
              " 'Recommenders.gdoc',\n",
              " 'SOP_SBU.gdoc',\n",
              " 'Ninad lor.gdoc',\n",
              " 'Copy of Lor of hod.gdoc',\n",
              " ' SOP_BIN.gdoc',\n",
              " 'Letter.gdoc',\n",
              " 'SOP_BUFF.gdoc',\n",
              " 'Malwan.gdoc',\n",
              " 'Sid in mahad',\n",
              " 'Applications.gdoc',\n",
              " 'Useless.gdoc',\n",
              " 'Weekend getaway(kawlegad)',\n",
              " 'bank balance cerificate.gdoc',\n",
              " 'Copy of NM Script final.gdoc',\n",
              " 'Resume_NEU.docx',\n",
              " 'Bagel cover letter.gdoc',\n",
              " 'bagel factory cover letter.docx',\n",
              " 'Resume_ASU.docx',\n",
              " 'Colab Notebooks',\n",
              " 'Job related skills.gdoc',\n",
              " \"Summer'24 internship applications.gdoc\",\n",
              " 'Amol_DynamicFootwearSpecialist.pdf',\n",
              " 'GTZAN dataset',\n",
              " 'Untitled document.gdoc',\n",
              " 'to do.gdoc',\n",
              " 'genres_original',\n",
              " 'custom_cnn_2d.h5',\n",
              " 'y_train.npy',\n",
              " 'X_test.npy',\n",
              " 'y_test.npy',\n",
              " 'genres',\n",
              " 'Amol_Kerkar_Resume.pdf',\n",
              " 'Fever kiosk.gdoc',\n",
              " 'Internship list .gdoc',\n",
              " 'Spam classifier model',\n",
              " 'xfiles.zip']"
            ]
          },
          "execution_count": 4,
          "metadata": {},
          "output_type": "execute_result"
        }
      ],
      "source": [
        "# prompt: list all files in cwd\n",
        "\n",
        "os.listdir()\n"
      ]
    },
    {
      "cell_type": "code",
      "execution_count": null,
      "metadata": {
        "colab": {
          "base_uri": "https://localhost:8080/"
        },
        "id": "1qcXXuqkphbq",
        "outputId": "28b18793-1743-44eb-f65d-b1efc2ea4395"
      },
      "outputs": [
        {
          "name": "stdout",
          "output_type": "stream",
          "text": [
            "Archive:  xfiles.zip\n",
            "  inflating: X_test.npy              \n",
            "  inflating: X_train.npy             \n",
            "  inflating: y_test.npy              \n",
            "  inflating: y_train.npy             \n"
          ]
        }
      ],
      "source": [
        "# prompt: unzip xfiles.zip here\n",
        "\n",
        "!unzip -o xfiles.zip\n"
      ]
    },
    {
      "cell_type": "code",
      "execution_count": null,
      "metadata": {
        "colab": {
          "background_save": true,
          "base_uri": "https://localhost:8080/",
          "height": 1000
        },
        "id": "r8D4m0qOH3x7",
        "outputId": "781780e3-8986-4c9f-b9a1-c913af09fe83"
      },
      "outputs": [
        {
          "name": "stdout",
          "output_type": "stream",
          "text": [
            "xtrain --> (35100, 128, 129, 1)\n",
            "ytrain --> (35100, 10)\n",
            "xtest --> (3900, 128, 129, 1)\n",
            "ytest --> (3900, 10)\n"
          ]
        },
        {
          "data": {
            "image/png": "[encoded data removed]",
            "text/plain": [
              "<Figure size 640x480 with 1 Axes>"
            ]
          },
          "metadata": {},
          "output_type": "display_data"
        },
        {
          "name": "stdout",
          "output_type": "stream",
          "text": [
            "Model: \"model\"\n",
            "_________________________________________________________________\n",
            " Layer (type)                Output Shape              Param #   \n",
            "=================================================================\n",
            " input_1 (InputLayer)        [(None, 128, 129, 1)]     0         \n",
            "                                                                 \n",
            " conv2d (Conv2D)             (None, 128, 129, 16)      160       \n",
            "                                                                 \n",
            " activation (Activation)     (None, 128, 129, 16)      0         \n",
            "                                                                 \n",
            " max_pooling2d (MaxPooling2  (None, 64, 64, 16)        0         \n",
            " D)                                                              \n",
            "                                                                 \n",
            " dropout (Dropout)           (None, 64, 64, 16)        0         \n",
            "                                                                 \n",
            " conv2d_1 (Conv2D)           (None, 64, 64, 32)        4640      \n",
            "                                                                 \n",
            " activation_1 (Activation)   (None, 64, 64, 32)        0         \n",
            "                                                                 \n",
            " max_pooling2d_1 (MaxPoolin  (None, 32, 32, 32)        0         \n",
            " g2D)                                                            \n",
            "                                                                 \n",
            " dropout_1 (Dropout)         (None, 32, 32, 32)        0         \n",
            "                                                                 \n",
            " conv2d_2 (Conv2D)           (None, 32, 32, 64)        18496     \n",
            "                                                                 \n",
            " activation_2 (Activation)   (None, 32, 32, 64)        0         \n",
            "                                                                 \n",
            " max_pooling2d_2 (MaxPoolin  (None, 16, 16, 64)        0         \n",
            " g2D)                                                            \n",
            "                                                                 \n",
            " dropout_2 (Dropout)         (None, 16, 16, 64)        0         \n",
            "                                                                 \n",
            " conv2d_3 (Conv2D)           (None, 16, 16, 128)       73856     \n",
            "                                                                 \n",
            " activation_3 (Activation)   (None, 16, 16, 128)       0         \n",
            "                                                                 \n",
            " max_pooling2d_3 (MaxPoolin  (None, 8, 8, 128)         0         \n",
            " g2D)                                                            \n",
            "                                                                 \n",
            " dropout_3 (Dropout)         (None, 8, 8, 128)         0         \n",
            "                                                                 \n",
            " conv2d_4 (Conv2D)           (None, 8, 8, 256)         295168    \n",
            "                                                                 \n",
            " activation_4 (Activation)   (None, 8, 8, 256)         0         \n",
            "                                                                 \n",
            " max_pooling2d_4 (MaxPoolin  (None, 4, 4, 256)         0         \n",
            " g2D)                                                            \n",
            "                                                                 \n",
            " dropout_4 (Dropout)         (None, 4, 4, 256)         0         \n",
            "                                                                 \n",
            " flatten (Flatten)           (None, 4096)              0         \n",
            "                                                                 \n",
            " dropout_5 (Dropout)         (None, 4096)              0         \n",
            "                                                                 \n",
            " dense (Dense)               (None, 128)               524416    \n",
            "                                                                 \n",
            " dropout_6 (Dropout)         (None, 128)               0         \n",
            "                                                                 \n",
            " dense_1 (Dense)             (None, 10)                1290      \n",
            "                                                                 \n",
            "=================================================================\n",
            "Total params: 918026 (3.50 MB)\n",
            "Trainable params: 918026 (3.50 MB)\n",
            "Non-trainable params: 0 (0.00 Byte)\n",
            "_________________________________________________________________\n"
          ]
        },
        {
          "name": "stderr",
          "output_type": "stream",
          "text": [
            "<ipython-input-6-9654ae7bbeba>:122: UserWarning: `Model.fit_generator` is deprecated and will be removed in a future version. Please use `Model.fit`, which supports generators.\n",
            "  hist = model.fit_generator(\n"
          ]
        },
        {
          "name": "stdout",
          "output_type": "stream",
          "text": [
            "Epoch 1/500\n",
            "142/275 [==============>...............] - ETA: 3:41 - loss: 5.1914 - accuracy: 0.1370"
          ]
        }
      ],
      "source": [
        "X_train = np.load('X_train.npy')\n",
        "y_train = np.load('y_train.npy')\n",
        "X_test = np.load('X_test.npy')\n",
        "y_test = np.load('y_test.npy')\n",
        "\n",
        "print('xtrain -->', X_train.shape)\n",
        "print('ytrain -->',y_train.shape)\n",
        "\n",
        "print('xtest -->', X_test.shape)\n",
        "\n",
        "\n",
        "print('ytest -->',y_test.shape)\n",
        "# #\n",
        "values, count = np.unique(np.argmax(y_train, axis=1), return_counts=True)\n",
        "plt.bar(values, count)\n",
        "\n",
        "values, count = np.unique(np.argmax(y_test, axis=1), return_counts=True)\n",
        "plt.bar(values, count)\n",
        "plt.show()\n",
        "\n",
        "from tensorflow.keras.utils import Sequence\n",
        "\n",
        "class GTZANGenerator(Sequence):\n",
        "    def __init__(self, X, y, batch_size=64, is_test = False):\n",
        "        self.X = X\n",
        "\n",
        "        self.y = y\n",
        "        self.batch_size = batch_size\n",
        "        self.is_test = is_test\n",
        "\n",
        "    def __len__(self):\n",
        "        return int(np.ceil(len(self.X)/self.batch_size))\n",
        "\n",
        "    def __getitem__(self, index):\n",
        "        # Get batch indexes\n",
        "        signals = self.X[index*self.batch_size:(index+1)*self.batch_size]\n",
        "\n",
        "        # Apply data augmentation\n",
        "        if not self.is_test:\n",
        "            signals = self.__augment(signals)\n",
        "        return signals, self.y[index*self.batch_size:(index+1)*self.batch_size]\n",
        "\n",
        "    def __augment(self, signals, hor_flip = 0.5, random_cutout = 0.5):\n",
        "        spectrograms =  []\n",
        "        for s in signals:\n",
        "            signal = copy(s)\n",
        "\n",
        "            # Perform horizontal flip\n",
        "            if np.random.rand() < hor_flip:\n",
        "                signal = np.flip(signal, 1)\n",
        "\n",
        "            # Perform random cutoout of some frequency/time\n",
        "            if np.random.rand() < random_cutout:\n",
        "                lines = np.random.randint(signal.shape[0], size=2)\n",
        "                cols = np.random.randint(signal.shape[0], size=3)\n",
        "                signal[lines, :, :] = -80 # dB\n",
        "                signal[:, cols, :] = -80 # dB\n",
        "\n",
        "            spectrograms.append(signal)\n",
        "        return np.array(spectrograms)\n",
        "\n",
        "    def on_epoch_end(self):\n",
        "        self.indexes = np.arange(len(self.X))\n",
        "        np.random.shuffle(self.indexes)\n",
        "        return None\n",
        "\n",
        "def conv_block(x, n_filters,filter_size=(3, 3), pool_size=(2, 2),stride=(1, 1)):\n",
        "    x = Conv2D(n_filters, filter_size, strides=(1, 1), padding='same')(x)\n",
        "    x = Activation('relu')(x)\n",
        "    x = MaxPooling2D(pool_size=pool_size, strides=stride)(x)\n",
        "    x = Dropout(0.4)(x)\n",
        "    return x\n",
        "\n",
        "# Model Definition\n",
        "def create_model(input_shape, num_genres):\n",
        "    inpt = Input(shape=input_shape)\n",
        "    x = conv_block(inpt, 16,stride=(2,2))\n",
        "    x = conv_block(x, 32,filter_size=(3,3),stride=(2,2))\n",
        "    x = conv_block(x, 64, stride=(2,2))\n",
        "    x = conv_block(x, 128,filter_size=(3,3),stride=(2,2))\n",
        "    x = conv_block(x, 256,stride=(2,2))\n",
        "\n",
        "    x = Flatten()(x)\n",
        "    x = Dropout(0.5)(x)\n",
        "    x = Dense(128, activation='relu',\n",
        "              kernel_regularizer=tf.keras.regularizers.l2(0.01))(x)\n",
        "    x = Dropout(0.3)(x)\n",
        "    predictions = Dense(num_genres,\n",
        "                        activation='softmax',\n",
        "                        kernel_regularizer=tf.keras.regularizers.l2(0.01))(x)\n",
        "\n",
        "    model = Model(inputs=inpt, outputs=predictions)\n",
        "    return model\n",
        "\n",
        "model = create_model(X_train[0].shape, 10)\n",
        "\n",
        "model.summary()\n",
        "\n",
        "model.compile(loss=tf.keras.losses.categorical_crossentropy,\n",
        "              optimizer=tf.keras.optimizers.Adam(learning_rate=0.001),\n",
        "              metrics=['accuracy'])\n",
        "\n",
        "reduceLROnPlat = ReduceLROnPlateau(\n",
        "    monitor='val_loss',\n",
        "    factor=0.97,\n",
        "    patience=3,\n",
        "    verbose=1,\n",
        "    mode='min',\n",
        "    min_delta=0.0001,\n",
        "    cooldown=2,\n",
        "    min_lr=1e-10\n",
        ")\n",
        "\n",
        "# Generators\n",
        "batch_size = 128\n",
        "train_generator = GTZANGenerator(X_train, y_train)\n",
        "steps_per_epoch = np.ceil(len(X_train)/batch_size)\n",
        "\n",
        "validation_generator = GTZANGenerator(X_test, y_test)\n",
        "val_steps = np.ceil(len(X_test)/batch_size)\n",
        "\n",
        "hist = model.fit_generator(\n",
        "    train_generator,\n",
        "    steps_per_epoch=steps_per_epoch,\n",
        "    validation_data=validation_generator,\n",
        "    validation_steps=val_steps,\n",
        "    epochs=500,\n",
        "    verbose=1,\n",
        "    callbacks=[reduceLROnPlat])\n",
        "\n",
        "# Save the model\n",
        "model.save('custom_cnn_2610.h5')\n",
        "\n"
      ]
    },
    {
      "cell_type": "code",
      "execution_count": null,
      "metadata": {
        "id": "9XzQtZ2UJAPq"
      },
      "outputs": [],
      "source": []
    }
  ],
  "metadata": {
    "accelerator": "TPU",
    "colab": {
      "provenance": [],
      "authorship_tag": "ABX9TyO9UO+ApW/Ly/sO9RL7mJC6",
      "include_colab_link": true
    },
    "kernelspec": {
      "display_name": "Python 3",
      "name": "python3"
    },
    "language_info": {
      "name": "python"
    }
  },
  "nbformat": 4,
  "nbformat_minor": 0
}